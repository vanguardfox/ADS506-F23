{
 "cells": [
  {
   "cell_type": "code",
   "execution_count": null,
   "id": "f9cfa69d-c5ed-48dc-974b-e727e4788723",
   "metadata": {},
   "outputs": [],
   "source": []
  },
  {
   "cell_type": "markdown",
   "id": "17d06bfc-c045-495f-91bf-3fe09a2731a1",
   "metadata": {},
   "source": [
    "### Smoothing Methods\n",
    "##### Reference\n",
    "##### Fuchs, M. (2020). Time series Analysis - smoothing methods. Netlify. https://michael-fuchs-python.netlify.app/2020/10/23/time-series-analysis-smoothing-methods"
   ]
  },
  {
   "cell_type": "code",
   "execution_count": 9,
   "id": "2702b8ea-ca3d-4841-824e-816d60dfc903",
   "metadata": {
    "tags": []
   },
   "outputs": [],
   "source": [
    "testX = close.iloc[-30:]\n",
    "trainX = close.iloc[:-30]"
   ]
  },
  {
   "cell_type": "code",
   "execution_count": 10,
   "id": "14e88aae-1cb2-4145-a911-2d2395d2f9b1",
   "metadata": {
    "tags": []
   },
   "outputs": [],
   "source": [
    "def ts_eval_metrics(y_true, y_pred):\n",
    "    print('Time Series Evaluation Metrics')\n",
    "    print(f'MSE = {metrics.mean_squared_error(y_true, y_pred)}')\n",
    "    print(f'MAE = {metrics.mean_absolute_error(y_true, y_pred)}')\n",
    "    print(f'RMSE = {np.sqrt(metrics.mean_squared_error(y_true, y_pred))}')\n",
    "    print(f'MAPE = {mean_absolute_percentage_error(y_true, y_pred)}')\n",
    "    print(f'r2 = {metrics.r2_score(y_true, y_pred)}', end='\\n\\n')"
   ]
  },
  {
   "cell_type": "code",
   "execution_count": 11,
   "id": "7635d54e-db83-43c6-a815-f94ce8170ef4",
   "metadata": {
    "tags": []
   },
   "outputs": [
    {
     "ename": "SyntaxError",
     "evalue": "cannot assign to function call (430787985.py, line 9)",
     "output_type": "error",
     "traceback": [
      "\u001b[0;36m  Cell \u001b[0;32mIn[11], line 9\u001b[0;36m\u001b[0m\n\u001b[0;31m    temp_df['RMSE'].iloc(df.index) = rmse\u001b[0m\n\u001b[0m    ^\u001b[0m\n\u001b[0;31mSyntaxError\u001b[0m\u001b[0;31m:\u001b[0m cannot assign to function call\n"
     ]
    }
   ],
   "source": [
    "df = pd.DataFrame()\n",
    "for i in [0,.1,.2,.3,.4,.5,.6,.7,.8,.9,1]:\n",
    "    temp_df = pd.DataFrame()\n",
    "    print(f'Simple Exponential Smoothing Level {i}')\n",
    "    fit_v = SimpleExpSmoothing(np.asarray(trainX)).fit(i)\n",
    "    forecast_prediction_v = fit_v.forecast(len(testX))\n",
    "    rmse = np.sqrt(metrics.mean_squared_error(testX, forecast_prediction_v))\n",
    "    temp_df['Smoothing Parameter'] = i\n",
    "    temp_df['RMSE'].iloc(df.index) = rmse\n",
    "    print(temp_df)\n",
    "    #df = pd.concat([df, temp_df], axis=0, ignore_index=False)\n",
    "    #ts_eval_metrics(testX, forecast_prediction_v)"
   ]
  }
 ],
 "metadata": {
  "kernelspec": {
   "display_name": "Python 3 (ipykernel)",
   "language": "python",
   "name": "python3"
  },
  "language_info": {
   "codemirror_mode": {
    "name": "ipython",
    "version": 3
   },
   "file_extension": ".py",
   "mimetype": "text/x-python",
   "name": "python",
   "nbconvert_exporter": "python",
   "pygments_lexer": "ipython3",
   "version": "3.8.18"
  }
 },
 "nbformat": 4,
 "nbformat_minor": 5
}
